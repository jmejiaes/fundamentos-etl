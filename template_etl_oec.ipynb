{
 "cells": [
  {
   "cell_type": "markdown",
   "source": [
    "# ETL de datos de importación de productos"
   ],
   "metadata": {
    "id": "XXPDOk3zk6CI"
   }
  },
  {
   "cell_type": "markdown",
   "source": [
    "## Instalación de librerías base"
   ],
   "metadata": {
    "id": "Wy1F5LuvlDo-"
   }
  },
  {
   "cell_type": "code",
   "execution_count": null,
   "metadata": {
    "collapsed": true,
    "pycharm": {
     "name": "#%%\n"
    },
    "id": "kvkfu3hli-We"
   },
   "outputs": [],
   "source": [
    "import pandas as pd\n",
    "from sqlalchemy import create_engine\n",
    "import uuid"
   ]
  },
  {
   "cell_type": "markdown",
   "source": [
    "## Extraction"
   ],
   "metadata": {
    "collapsed": false,
    "pycharm": {
     "name": "#%% md\n"
    },
    "id": "DZG-TZxpi-Wh"
   }
  },
  {
   "cell_type": "code",
   "execution_count": 2,
   "outputs": [],
   "source": [
    "import pandas as pd\n",
    "import psycopg2 as pg\n",
    "\n",
    "# Conexión a la base de datos PostgreSQL\n",
    "conn = pg.connect(\n",
    "    host=\"localhost\",\n",
    "    database=\"postgres\",\n",
    "    user=\"postgres\",\n",
    "    password=\"mysecretpass\"\n",
    ")\n",
    "\n",
    "# Consulta SQL para seleccionar los datos\n",
    "query = \"SELECT * FROM trades\"\n",
    "\n",
    "# Tamaño del lote para cargar los datos\n",
    "chunk_size = 1000\n",
    "\n",
    "# Crear un generador de pandas para leer los datos en lotes\n",
    "trades_generator = pd.read_sql_query(query, conn, chunksize=chunk_size)\n",
    "\n",
    "# Concatenar los DataFrames de los lotes en uno solo\n",
    "trades_df = pd.concat(trades_generator)\n",
    "\n",
    "# Mostrar las primeras 5 filas del DataFrame completo\n"
   ],
   "metadata": {
    "pycharm": {
     "name": "#%%\n"
    },
    "id": "e8Kg_cWhi-Wj"
   }
  },
  {
   "cell_type": "code",
   "execution_count": 3,
   "outputs": [],
   "source": [
    "df_countries = pd.read_json('src/country_data.json')"
   ],
   "metadata": {
    "pycharm": {
     "name": "#%%\n"
    },
    "id": "nECq5AcCi-Wk",
    "ExecuteTime": {
     "end_time": "2024-03-24T00:54:06.702467Z",
     "start_time": "2024-03-24T00:54:06.690486Z"
    }
   }
  },
  {
   "cell_type": "code",
   "execution_count": 4,
   "outputs": [],
   "source": [
    "df_codes = pd.read_csv('src/hs-codes.csv')"
   ],
   "metadata": {
    "pycharm": {
     "name": "#%%\n"
    },
    "id": "aw4sjt_ei-Wk",
    "ExecuteTime": {
     "end_time": "2024-03-24T00:54:08.162113Z",
     "start_time": "2024-03-24T00:54:08.124900Z"
    }
   }
  },
  {
   "cell_type": "code",
   "outputs": [
    {
     "data": {
      "text/plain": "        Order  Level          Code        Parent Code_comm Parent.1  \\\n2     1654557      2   10021000090  1.001100e+10         1        I   \n52    1654607      2   20021000090  1.001100e+10         2        I   \n140   1654695      2   30021000090  1.001100e+10         3        I   \n416   1654971      2   40021000090  1.001100e+10         4        I   \n463   1655018      2   50021000090  1.001100e+10         5        I   \n...       ...    ...           ...           ...       ...      ...   \n7238  1661793      2  930021000090  9.300110e+11        93      XIX   \n7264  1661819      2  940021000090  9.400110e+11        94       XX   \n7319  1661874      2  950021000090  9.400110e+11        95       XX   \n7362  1661917      2  960021000090  9.400110e+11        96       XX   \n7428  1661983      2  970021000090  9.700110e+11        97      XXI   \n\n                                    Description_complex  \\\n2                              CHAPTER 1 - LIVE ANIMALS   \n52               CHAPTER 2 - MEAT AND EDIBLE MEAT OFFAL   \n140   CHAPTER 3 - FISH AND CRUSTACEANS, MOLLUSCS AND...   \n416   CHAPTER 4 - DAIRY PRODUCE; BIRDS' EGGS; NATURA...   \n463   CHAPTER 5 - PRODUCTS OF ANIMAL ORIGIN, NOT ELS...   \n...                                                 ...   \n7238  CHAPTER 93 - ARMS AND AMMUNITION; PARTS AND AC...   \n7264  CHAPTER 94 - FURNITURE; BEDDING, MATTRESSES, M...   \n7319  CHAPTER 95 - TOYS, GAMES AND SPORTS REQUISITES...   \n7362   CHAPTER 96 - MISCELLANEOUS MANUFACTURED ARTICLES   \n7428  CHAPTER 97 - WORKS OF ART, COLLECTORS' PIECES ...   \n\n                                            Description  \n2                                          LIVE ANIMALS  \n52                           MEAT AND EDIBLE MEAT OFFAL  \n140   FISH AND CRUSTACEANS, MOLLUSCS AND OTHER AQUAT...  \n416   DAIRY PRODUCE; BIRDS' EGGS; NATURAL HONEY; EDI...  \n463   PRODUCTS OF ANIMAL ORIGIN, NOT ELSEWHERE SPECI...  \n...                                                 ...  \n7238  ARMS AND AMMUNITION; PARTS AND ACCESSORIES THE...  \n7264  FURNITURE; BEDDING, MATTRESSES, MATTRESS SUPPO...  \n7319  TOYS, GAMES AND SPORTS REQUISITES; PARTS AND A...  \n7362                MISCELLANEOUS MANUFACTURED ARTICLES  \n7428      WORKS OF ART, COLLECTORS' PIECES AND ANTIQUES  \n\n[96 rows x 8 columns]",
      "text/html": "<div>\n<style scoped>\n    .dataframe tbody tr th:only-of-type {\n        vertical-align: middle;\n    }\n\n    .dataframe tbody tr th {\n        vertical-align: top;\n    }\n\n    .dataframe thead th {\n        text-align: right;\n    }\n</style>\n<table border=\"1\" class=\"dataframe\">\n  <thead>\n    <tr style=\"text-align: right;\">\n      <th></th>\n      <th>Order</th>\n      <th>Level</th>\n      <th>Code</th>\n      <th>Parent</th>\n      <th>Code_comm</th>\n      <th>Parent.1</th>\n      <th>Description_complex</th>\n      <th>Description</th>\n    </tr>\n  </thead>\n  <tbody>\n    <tr>\n      <th>2</th>\n      <td>1654557</td>\n      <td>2</td>\n      <td>10021000090</td>\n      <td>1.001100e+10</td>\n      <td>1</td>\n      <td>I</td>\n      <td>CHAPTER 1 - LIVE ANIMALS</td>\n      <td>LIVE ANIMALS</td>\n    </tr>\n    <tr>\n      <th>52</th>\n      <td>1654607</td>\n      <td>2</td>\n      <td>20021000090</td>\n      <td>1.001100e+10</td>\n      <td>2</td>\n      <td>I</td>\n      <td>CHAPTER 2 - MEAT AND EDIBLE MEAT OFFAL</td>\n      <td>MEAT AND EDIBLE MEAT OFFAL</td>\n    </tr>\n    <tr>\n      <th>140</th>\n      <td>1654695</td>\n      <td>2</td>\n      <td>30021000090</td>\n      <td>1.001100e+10</td>\n      <td>3</td>\n      <td>I</td>\n      <td>CHAPTER 3 - FISH AND CRUSTACEANS, MOLLUSCS AND...</td>\n      <td>FISH AND CRUSTACEANS, MOLLUSCS AND OTHER AQUAT...</td>\n    </tr>\n    <tr>\n      <th>416</th>\n      <td>1654971</td>\n      <td>2</td>\n      <td>40021000090</td>\n      <td>1.001100e+10</td>\n      <td>4</td>\n      <td>I</td>\n      <td>CHAPTER 4 - DAIRY PRODUCE; BIRDS' EGGS; NATURA...</td>\n      <td>DAIRY PRODUCE; BIRDS' EGGS; NATURAL HONEY; EDI...</td>\n    </tr>\n    <tr>\n      <th>463</th>\n      <td>1655018</td>\n      <td>2</td>\n      <td>50021000090</td>\n      <td>1.001100e+10</td>\n      <td>5</td>\n      <td>I</td>\n      <td>CHAPTER 5 - PRODUCTS OF ANIMAL ORIGIN, NOT ELS...</td>\n      <td>PRODUCTS OF ANIMAL ORIGIN, NOT ELSEWHERE SPECI...</td>\n    </tr>\n    <tr>\n      <th>...</th>\n      <td>...</td>\n      <td>...</td>\n      <td>...</td>\n      <td>...</td>\n      <td>...</td>\n      <td>...</td>\n      <td>...</td>\n      <td>...</td>\n    </tr>\n    <tr>\n      <th>7238</th>\n      <td>1661793</td>\n      <td>2</td>\n      <td>930021000090</td>\n      <td>9.300110e+11</td>\n      <td>93</td>\n      <td>XIX</td>\n      <td>CHAPTER 93 - ARMS AND AMMUNITION; PARTS AND AC...</td>\n      <td>ARMS AND AMMUNITION; PARTS AND ACCESSORIES THE...</td>\n    </tr>\n    <tr>\n      <th>7264</th>\n      <td>1661819</td>\n      <td>2</td>\n      <td>940021000090</td>\n      <td>9.400110e+11</td>\n      <td>94</td>\n      <td>XX</td>\n      <td>CHAPTER 94 - FURNITURE; BEDDING, MATTRESSES, M...</td>\n      <td>FURNITURE; BEDDING, MATTRESSES, MATTRESS SUPPO...</td>\n    </tr>\n    <tr>\n      <th>7319</th>\n      <td>1661874</td>\n      <td>2</td>\n      <td>950021000090</td>\n      <td>9.400110e+11</td>\n      <td>95</td>\n      <td>XX</td>\n      <td>CHAPTER 95 - TOYS, GAMES AND SPORTS REQUISITES...</td>\n      <td>TOYS, GAMES AND SPORTS REQUISITES; PARTS AND A...</td>\n    </tr>\n    <tr>\n      <th>7362</th>\n      <td>1661917</td>\n      <td>2</td>\n      <td>960021000090</td>\n      <td>9.400110e+11</td>\n      <td>96</td>\n      <td>XX</td>\n      <td>CHAPTER 96 - MISCELLANEOUS MANUFACTURED ARTICLES</td>\n      <td>MISCELLANEOUS MANUFACTURED ARTICLES</td>\n    </tr>\n    <tr>\n      <th>7428</th>\n      <td>1661983</td>\n      <td>2</td>\n      <td>970021000090</td>\n      <td>9.700110e+11</td>\n      <td>97</td>\n      <td>XXI</td>\n      <td>CHAPTER 97 - WORKS OF ART, COLLECTORS' PIECES ...</td>\n      <td>WORKS OF ART, COLLECTORS' PIECES AND ANTIQUES</td>\n    </tr>\n  </tbody>\n</table>\n<p>96 rows × 8 columns</p>\n</div>"
     },
     "execution_count": 9,
     "metadata": {},
     "output_type": "execute_result"
    }
   ],
   "source": [
    "df_parents = df_codes[df_codes['Level']==2].copy()\n",
    "df_parents"
   ],
   "metadata": {
    "collapsed": false,
    "ExecuteTime": {
     "end_time": "2024-03-24T00:56:41.517104Z",
     "start_time": "2024-03-24T00:56:41.505917Z"
    }
   },
   "execution_count": 9
  },
  {
   "cell_type": "markdown",
   "source": [
    "## Transform"
   ],
   "metadata": {
    "collapsed": false,
    "pycharm": {
     "name": "#%% md\n"
    },
    "id": "CaNM8Unmi-Wk"
   }
  },
  {
   "cell_type": "markdown",
   "source": [
    "#### Clean codes"
   ],
   "metadata": {
    "collapsed": false,
    "pycharm": {
     "name": "#%% md\n"
    },
    "id": "2oSQLcOZi-Wl"
   }
  },
  {
   "cell_type": "code",
   "execution_count": 14,
   "outputs": [],
   "source": [
    "df_code = df_codes[df_codes['Code_comm'].notnull()]"
   ],
   "metadata": {
    "pycharm": {
     "name": "#%%\n"
    },
    "id": "ZXQuUAAfi-Wl",
    "ExecuteTime": {
     "end_time": "2024-03-24T01:04:26.853818Z",
     "start_time": "2024-03-24T01:04:26.849506Z"
    }
   }
  },
  {
   "cell_type": "code",
   "execution_count": 15,
   "outputs": [],
   "source": [
    "def clean_code(text):\n",
    "    text = str(text)\n",
    "    parent_code = None\n",
    "\n",
    "    if len(text) == 12:\n",
    "        code = text[:5]\n",
    "        parent_code = text[:1]\n",
    "    else:\n",
    "        code = text[:6]\n",
    "        parent_code = text[:2]\n",
    "\n",
    "    try:\n",
    "        parent = df_parents[df_parents['Code_comm'] == parent_code]['Description'].values[0]\n",
    "    except:\n",
    "        parent = None\n",
    "\n",
    "\n",
    "    return (code, parent)"
   ],
   "metadata": {
    "pycharm": {
     "name": "#%%\n"
    },
    "id": "M0rPc6x-i-Wm",
    "ExecuteTime": {
     "end_time": "2024-03-24T01:04:27.149251Z",
     "start_time": "2024-03-24T01:04:27.145716Z"
    }
   }
  },
  {
   "cell_type": "code",
   "execution_count": 17,
   "outputs": [],
   "source": [
    "df_codes[['clean_code', 'parent_description']] = df_codes.apply(\n",
    "    lambda x:  clean_code( x['Code'] ),\n",
    "    axis=1,\n",
    "    result_type='expand'\n",
    ")"
   ],
   "metadata": {
    "pycharm": {
     "name": "#%%\n"
    },
    "id": "kP0MZk34i-Wm",
    "ExecuteTime": {
     "end_time": "2024-03-24T01:04:35.110855Z",
     "start_time": "2024-03-24T01:04:33.632472Z"
    }
   }
  },
  {
   "cell_type": "code",
   "execution_count": null,
   "outputs": [],
   "source": [
    "df_codes = df_codes[df_codes['clean_code'].notnull()][]"
   ],
   "metadata": {
    "pycharm": {
     "name": "#%%\n"
    },
    "id": "ySF8qHO7i-Wm"
   }
  },
  {
   "cell_type": "markdown",
   "source": [
    "### Clean Countries"
   ],
   "metadata": {
    "collapsed": false,
    "pycharm": {
     "name": "#%% md\n"
    },
    "id": "fd-QvMWUi-Wn"
   }
  },
  {
   "cell_type": "code",
   "execution_count": null,
   "outputs": [],
   "source": [],
   "metadata": {
    "pycharm": {
     "name": "#%%\n"
    },
    "id": "qvKwSKLai-Wn"
   }
  },
  {
   "cell_type": "code",
   "execution_count": null,
   "outputs": [],
   "source": [],
   "metadata": {
    "pycharm": {
     "name": "#%%\n"
    },
    "id": "0psKP8Kpi-Wn"
   }
  },
  {
   "cell_type": "markdown",
   "source": [
    "### Merge"
   ],
   "metadata": {
    "collapsed": false,
    "pycharm": {
     "name": "#%% md\n"
    },
    "id": "cWScEcGgi-Wn"
   }
  },
  {
   "cell_type": "code",
   "execution_count": null,
   "outputs": [],
   "source": [],
   "metadata": {
    "pycharm": {
     "name": "#%%\n"
    },
    "id": "ajZjpZBPi-Wn"
   }
  },
  {
   "cell_type": "code",
   "execution_count": null,
   "outputs": [],
   "source": [],
   "metadata": {
    "pycharm": {
     "name": "#%%\n"
    },
    "id": "5urH1F55i-Wn"
   }
  },
  {
   "cell_type": "markdown",
   "source": [
    "### Clean trades"
   ],
   "metadata": {
    "collapsed": false,
    "pycharm": {
     "name": "#%% md\n"
    },
    "id": "YVNqH6epi-Wo"
   }
  },
  {
   "cell_type": "code",
   "execution_count": null,
   "outputs": [],
   "source": [
    "\n"
   ],
   "metadata": {
    "pycharm": {
     "name": "#%%\n"
    },
    "id": "948JzVUSi-Wo"
   }
  },
  {
   "cell_type": "code",
   "execution_count": null,
   "outputs": [],
   "source": [],
   "metadata": {
    "pycharm": {
     "name": "#%%\n"
    },
    "id": "A2DHcmqsi-Wo"
   }
  },
  {
   "cell_type": "code",
   "execution_count": null,
   "outputs": [],
   "source": [],
   "metadata": {
    "pycharm": {
     "name": "#%%\n"
    },
    "id": "C-WTbQ7ki-Wo"
   }
  },
  {
   "cell_type": "code",
   "execution_count": null,
   "outputs": [],
   "source": [],
   "metadata": {
    "pycharm": {
     "name": "#%%\n"
    },
    "id": "je5w1xWci-Wo"
   }
  },
  {
   "cell_type": "code",
   "execution_count": null,
   "outputs": [],
   "source": [],
   "metadata": {
    "pycharm": {
     "name": "#%%\n"
    },
    "id": "rtkuIkTgi-Wo"
   }
  },
  {
   "cell_type": "code",
   "execution_count": null,
   "outputs": [],
   "source": [],
   "metadata": {
    "pycharm": {
     "name": "#%%\n"
    },
    "id": "AB97fTfJi-Wp"
   }
  },
  {
   "cell_type": "markdown",
   "source": [
    "## Load"
   ],
   "metadata": {
    "collapsed": false,
    "pycharm": {
     "name": "#%% md\n"
    },
    "id": "tjsSQNuQi-Wp"
   }
  },
  {
   "cell_type": "code",
   "execution_count": null,
   "outputs": [],
   "source": [
    "import os\n",
    "import boto3\n",
    "\n"
   ],
   "metadata": {
    "pycharm": {
     "name": "#%%\n"
    },
    "id": "Mnyq5Csei-Wp"
   }
  },
  {
   "cell_type": "code",
   "execution_count": null,
   "outputs": [],
   "source": [],
   "metadata": {
    "pycharm": {
     "name": "#%%\n"
    },
    "id": "IoRjzy7Ji-Wp"
   }
  }
 ],
 "metadata": {
  "kernelspec": {
   "display_name": "Python 3",
   "language": "python",
   "name": "python3"
  },
  "language_info": {
   "codemirror_mode": {
    "name": "ipython",
    "version": 2
   },
   "file_extension": ".py",
   "mimetype": "text/x-python",
   "name": "python",
   "nbconvert_exporter": "python",
   "pygments_lexer": "ipython2",
   "version": "2.7.6"
  },
  "colab": {
   "provenance": []
  }
 },
 "nbformat": 4,
 "nbformat_minor": 0
}
